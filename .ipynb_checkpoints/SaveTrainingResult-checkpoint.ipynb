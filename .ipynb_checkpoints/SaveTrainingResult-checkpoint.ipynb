{
 "cells": [
  {
   "cell_type": "code",
   "execution_count": 24,
   "id": "6affea78",
   "metadata": {},
   "outputs": [],
   "source": [
    "import pandas as pd\n",
    "import numpy as np\n",
    "import os\n",
    "import random\n",
    "import sys\n",
    "import matplotlib.pyplot as plt\n",
    "import seaborn as sns\n",
    "\n",
    "from sklearn.model_selection import train_test_split, cross_val_score\n",
    "from sklearn.utils.multiclass import unique_labels\n",
    "from sklearn.ensemble import RandomForestClassifier, VotingClassifier\n",
    "\n",
    "from tqdm import tqdm\n",
    "\n",
    "import warnings\n",
    "warnings.filterwarnings('ignore')"
   ]
  },
  {
   "cell_type": "code",
   "execution_count": 39,
   "id": "9eee6b30",
   "metadata": {},
   "outputs": [],
   "source": [
    "df = pd.read_csv(\".\\\\data_set.csv\")\n",
    "y = df['label'].to_numpy()\n",
    "df = df.drop(['label'], axis=1)\n",
    "df = df.drop(['name'], axis=1)\n",
    "x = df.to_numpy()\n",
    "X_train, X_test, y_train, y_test = train_test_split(np.array(x), y, test_size=0.2, random_state=9)\n"
   ]
  },
  {
   "cell_type": "code",
   "execution_count": 42,
   "id": "730279f7",
   "metadata": {},
   "outputs": [],
   "source": [
    "scaler = StandardScaler()\n",
    "X_train = scaler.fit_transform(X_train)\n",
    "X_test = scaler.transform(X_test)"
   ]
  },
  {
   "cell_type": "code",
   "execution_count": 45,
   "id": "2423af3b",
   "metadata": {},
   "outputs": [],
   "source": [
    "rf_params = {'criterion': 'entropy', \n",
    "             'max_depth': 15, \n",
    "             'n_estimators': 22984, \n",
    "             'min_samples_leaf': 3, \n",
    "             'min_samples_split': 9, \n",
    "             'max_leaf_nodes': 239, \n",
    "             'random_state': 22}"
   ]
  },
  {
   "cell_type": "code",
   "execution_count": null,
   "id": "94aee1b1",
   "metadata": {},
   "outputs": [],
   "source": [
    "RandomForestClassifier(**rf_params).fit(X_train, y_train)"
   ]
  },
  {
   "cell_type": "code",
   "execution_count": null,
   "id": "7125265e",
   "metadata": {},
   "outputs": [],
   "source": []
  },
  {
   "cell_type": "code",
   "execution_count": null,
   "id": "8a7e3852",
   "metadata": {},
   "outputs": [],
   "source": []
  }
 ],
 "metadata": {
  "kernelspec": {
   "display_name": "Python 3",
   "language": "python",
   "name": "python3"
  },
  "language_info": {
   "codemirror_mode": {
    "name": "ipython",
    "version": 3
   },
   "file_extension": ".py",
   "mimetype": "text/x-python",
   "name": "python",
   "nbconvert_exporter": "python",
   "pygments_lexer": "ipython3",
   "version": "3.8.8"
  }
 },
 "nbformat": 4,
 "nbformat_minor": 5
}
