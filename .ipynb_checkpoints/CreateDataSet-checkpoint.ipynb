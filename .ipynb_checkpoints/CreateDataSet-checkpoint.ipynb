{
 "cells": [
  {
   "cell_type": "code",
   "execution_count": 2,
   "id": "e6c7268c",
   "metadata": {},
   "outputs": [],
   "source": [
    "import os\n",
    "import random\n",
    "import sys\n",
    "import glob\n",
    "import IPython.display as ipd\n",
    "import librosa\n",
    "import librosa.display\n",
    "import matplotlib.pyplot as plt\n",
    "import warnings\n",
    "import numpy as np\n",
    "import pandas as pd\n",
    "import scipy.stats\n",
    "from sklearn.model_selection import StratifiedShuffleSplit\n",
    "from scipy.fftpack import fft\n",
    "from scipy import signal\n",
    "from scipy.io import wavfile\n",
    "from tqdm import tqdm\n",
    "import plotly.offline as py"
   ]
  },
  {
   "cell_type": "code",
   "execution_count": 3,
   "id": "57fc0bbf",
   "metadata": {
    "scrolled": true
   },
   "outputs": [
    {
     "data": {
      "text/html": [
       "        <script type=\"text/javascript\">\n",
       "        window.PlotlyConfig = {MathJaxConfig: 'local'};\n",
       "        if (window.MathJax) {MathJax.Hub.Config({SVG: {font: \"STIX-Web\"}});}\n",
       "        if (typeof require !== 'undefined') {\n",
       "        require.undef(\"plotly\");\n",
       "        requirejs.config({\n",
       "            paths: {\n",
       "                'plotly': ['https://cdn.plot.ly/plotly-2.3.1.min']\n",
       "            }\n",
       "        });\n",
       "        require(['plotly'], function(Plotly) {\n",
       "            window._Plotly = Plotly;\n",
       "        });\n",
       "        }\n",
       "        </script>\n",
       "        "
      ]
     },
     "metadata": {},
     "output_type": "display_data"
    }
   ],
   "source": [
    "warnings.simplefilter(\"ignore\")\n",
    "pd.set_option('display.max_columns', None)\n",
    "py.init_notebook_mode(connected=True)"
   ]
  },
  {
   "cell_type": "code",
   "execution_count": 4,
   "id": "9801925a",
   "metadata": {},
   "outputs": [],
   "source": [
    "def load_data(basepath):\n",
    "    dir_list = os.listdir(basepath) #devuelve los nombres 'audio.wav' en una lista\n",
    "    dir_list.sort()\n",
    "    #se crea un dataframe para guardar la data de los audios\n",
    "    df = pd.DataFrame(columns=['path', 'source', 'actor', 'gender', 'intensity', 'statement', 'repetition', 'emotion'])\n",
    "    count = 0\n",
    "\n",
    "    for f in os.listdir(basepath):\n",
    "        filename = f.split('.')[0].split('-')\n",
    "        if(len(filename)==7):\n",
    "            path = basepath + f\n",
    "            src = int(filename[1])\n",
    "            actor = int(filename[-1])\n",
    "            emotion = int(filename[2])\n",
    "            if int(actor)%2 == 0:\n",
    "                gender = \"female\"\n",
    "            else:\n",
    "                gender = \"male\"\n",
    "\n",
    "            if filename[3] == '01':\n",
    "                intensity = 0\n",
    "            else:\n",
    "                intensity = 1\n",
    "\n",
    "            if filename[4] == '01':\n",
    "                statement = 0\n",
    "            else:\n",
    "                statement = 1\n",
    "\n",
    "            if filename[5] == '01':\n",
    "                repeat = 0\n",
    "            else:\n",
    "                repeat = 1\n",
    "\n",
    "        df.loc[count] = [path, src, actor, gender, intensity, statement, repeat, emotion]\n",
    "        count += 1\n",
    "\n",
    "    labels = []\n",
    "    for i in range(len(df)):\n",
    "        if df.emotion[i] == 1:\n",
    "            label = \"_neutral\"\n",
    "        elif df.emotion[i] == 3:\n",
    "            label = \"_happy\"\n",
    "        elif df.emotion[i] == 4:\n",
    "            label = \"_sad\"\n",
    "        elif df.emotion[i] == 5:\n",
    "            label = \"_angry\"\n",
    "        else:\n",
    "            label = \"_none\"\n",
    "\n",
    "        # Add gender to the label \n",
    "        labels.append(df.loc[i,'gender'] + label)\n",
    "\n",
    "    df['label'] = labels\n",
    "    return df"
   ]
  },
  {
   "cell_type": "code",
   "execution_count": 16,
   "id": "ab0993a6",
   "metadata": {},
   "outputs": [],
   "source": [
    "path = os.path.join(os.getcwd(), 'audios\\\\')\n",
    "df = load_data(path)"
   ]
  },
  {
   "cell_type": "code",
   "execution_count": 47,
   "id": "d3ef958f",
   "metadata": {},
   "outputs": [],
   "source": [
    "##Dividir el dataset para entrenamiento 80% y prueba 20%\n",
    "sss = StratifiedShuffleSplit(n_splits=2, random_state=11, test_size=0.2)\n",
    "for train_index, test_index in sss.split(df, df.label):\n",
    "    df_train, df_test = df.iloc[train_index,:], df.iloc[test_index,:]"
   ]
  },
  {
   "cell_type": "code",
   "execution_count": 51,
   "id": "28c2d3b4",
   "metadata": {},
   "outputs": [],
   "source": [
    "def get_features(df):\n",
    "    data = pd.DataFrame(columns=['feature'])\n",
    "    label = pd.DataFrame(columns=['label'])\n",
    "    name = pd.DataFrame(columns=['name'])\n",
    "\n",
    "    for i in tqdm(range(df.shape[0])):\n",
    "        try:\n",
    "            x, sample_rate = librosa.load(df.path[i])\n",
    "            \n",
    "            result=np.array([])\n",
    "\n",
    "            #Se extrae el feature MFCCs\n",
    "            mfccs=np.mean(librosa.feature.mfcc(y=x, sr=sample_rate, n_mfcc=40).T, axis=0)\n",
    "            result=np.hstack((result, mfccs))\n",
    "\n",
    "            #Se extrae el feature Chroma\n",
    "            stft=np.abs(librosa.stft(x))\n",
    "            chroma=np.mean(librosa.feature.chroma_stft(S=stft, sr=sample_rate).T,axis=0)\n",
    "            result=np.hstack((result, chroma))\n",
    "\n",
    "            ##Se extrae el feature Mel Scale\n",
    "            mel=np.mean(librosa.feature.melspectrogram(x, sr=sample_rate).T,axis=0)\n",
    "            result=np.hstack((result, mel))\n",
    "            label.at[i,'label'] = df.loc[i,'label']\n",
    "            data.loc[i] = [result]\n",
    "            name.at[i,'name'] = df.path[i].split('/')[-1]\n",
    "        except:\n",
    "            pass\n",
    "\n",
    "    final_data = pd.DataFrame(data['feature'].values.tolist())\n",
    "    final_data = pd.concat([final_data,label,name], axis=1)\n",
    "    return final_data"
   ]
  },
  {
   "cell_type": "code",
   "execution_count": 54,
   "id": "03cbf230",
   "metadata": {},
   "outputs": [
    {
     "name": "stderr",
     "output_type": "stream",
     "text": [
      "100%|██████████| 536/536 [02:26<00:00,  3.65it/s]\n"
     ]
    }
   ],
   "source": [
    "train_data = get_features(df_train)"
   ]
  },
  {
   "cell_type": "code",
   "execution_count": 52,
   "id": "8fbdc7b2",
   "metadata": {},
   "outputs": [
    {
     "name": "stderr",
     "output_type": "stream",
     "text": [
      "100%|██████████| 134/134 [00:10<00:00, 13.14it/s]\n"
     ]
    }
   ],
   "source": [
    "test_data = get_features(df_test)"
   ]
  },
  {
   "cell_type": "code",
   "execution_count": 55,
   "id": "17a2e31b",
   "metadata": {},
   "outputs": [],
   "source": [
    "#guardar los resultados en csv\n",
    "train_data.to_csv(\".\\\\train_data_set.csv\", index=False)\n",
    "test_data.to_csv(\".\\\\test_data_set.csv\", index=False)"
   ]
  }
 ],
 "metadata": {
  "kernelspec": {
   "display_name": "Python 3",
   "language": "python",
   "name": "python3"
  },
  "language_info": {
   "codemirror_mode": {
    "name": "ipython",
    "version": 3
   },
   "file_extension": ".py",
   "mimetype": "text/x-python",
   "name": "python",
   "nbconvert_exporter": "python",
   "pygments_lexer": "ipython3",
   "version": "3.8.8"
  }
 },
 "nbformat": 4,
 "nbformat_minor": 5
}
