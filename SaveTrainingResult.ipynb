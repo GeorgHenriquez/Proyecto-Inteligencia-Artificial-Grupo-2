{
 "cells": [
  {
   "cell_type": "code",
   "execution_count": 22,
   "id": "6affea78",
   "metadata": {},
   "outputs": [],
   "source": [
    "import pandas as pd\n",
    "import numpy as np\n",
    "import os\n",
    "import random\n",
    "import sys\n",
    "import pickle\n",
    "import matplotlib.pyplot as plt\n",
    "import seaborn as sns\n",
    "\n",
    "from sklearn.model_selection import train_test_split, cross_val_score\n",
    "from sklearn.utils.multiclass import unique_labels\n",
    "from sklearn.ensemble import RandomForestClassifier, VotingClassifier\n",
    "from sklearn.preprocessing import StandardScaler\n",
    "\n",
    "from tqdm import tqdm\n",
    "\n",
    "import warnings\n",
    "warnings.filterwarnings('ignore')"
   ]
  },
  {
   "cell_type": "code",
   "execution_count": 23,
   "id": "9eee6b30",
   "metadata": {},
   "outputs": [],
   "source": [
    "df = pd.read_csv(\".\\\\data_set.csv\")\n",
    "y = df['label'].to_numpy()\n",
    "df = df.drop(['label'], axis=1)\n",
    "df = df.drop(['name'], axis=1)\n",
    "x = df.to_numpy()\n",
    "X_train, X_test, y_train, y_test = train_test_split(np.array(x), y, test_size=0.2, random_state=9)\n"
   ]
  },
  {
   "cell_type": "code",
   "execution_count": 24,
   "id": "2423af3b",
   "metadata": {},
   "outputs": [],
   "source": [
    "rf_params = {'criterion': 'entropy', \n",
    "             'n_jobs': 2,\n",
    "             'max_depth': 15, \n",
    "             'n_estimators': 22984,  #22984\n",
    "             'min_samples_leaf': 3, \n",
    "             'min_samples_split': 9, \n",
    "             'max_leaf_nodes': 239, \n",
    "             'random_state': 22}"
   ]
  },
  {
   "cell_type": "code",
   "execution_count": 25,
   "id": "94aee1b1",
   "metadata": {},
   "outputs": [],
   "source": [
    "clf = RandomForestClassifier(**rf_params)"
   ]
  },
  {
   "cell_type": "code",
   "execution_count": 26,
   "id": "7125265e",
   "metadata": {},
   "outputs": [
    {
     "data": {
      "text/plain": [
       "RandomForestClassifier(criterion='entropy', max_depth=15, max_leaf_nodes=239,\n",
       "                       min_samples_leaf=3, min_samples_split=9,\n",
       "                       n_estimators=22984, n_jobs=2, random_state=22)"
      ]
     },
     "execution_count": 26,
     "metadata": {},
     "output_type": "execute_result"
    }
   ],
   "source": [
    "clf.fit(X_train, y_train)"
   ]
  },
  {
   "cell_type": "code",
   "execution_count": 31,
   "id": "8f767794",
   "metadata": {
    "scrolled": false
   },
   "outputs": [],
   "source": [
    "predict = clf.predict(X_test)"
   ]
  },
  {
   "cell_type": "code",
   "execution_count": 29,
   "id": "b67834dd",
   "metadata": {},
   "outputs": [
    {
     "data": {
      "text/html": [
       "<div>\n",
       "<style scoped>\n",
       "    .dataframe tbody tr th:only-of-type {\n",
       "        vertical-align: middle;\n",
       "    }\n",
       "\n",
       "    .dataframe tbody tr th {\n",
       "        vertical-align: top;\n",
       "    }\n",
       "\n",
       "    .dataframe thead th {\n",
       "        text-align: right;\n",
       "    }\n",
       "</style>\n",
       "<table border=\"1\" class=\"dataframe\">\n",
       "  <thead>\n",
       "    <tr style=\"text-align: right;\">\n",
       "      <th>Emocion Predicha</th>\n",
       "      <th>Hombre_enojado</th>\n",
       "      <th>Hombre_feliz</th>\n",
       "      <th>Hombre_neutral</th>\n",
       "      <th>Hombre_triste</th>\n",
       "      <th>Mujer_enojado</th>\n",
       "      <th>Mujer_feliz</th>\n",
       "      <th>Mujer_neutral</th>\n",
       "      <th>Mujer_triste</th>\n",
       "    </tr>\n",
       "    <tr>\n",
       "      <th>Emocion real</th>\n",
       "      <th></th>\n",
       "      <th></th>\n",
       "      <th></th>\n",
       "      <th></th>\n",
       "      <th></th>\n",
       "      <th></th>\n",
       "      <th></th>\n",
       "      <th></th>\n",
       "    </tr>\n",
       "  </thead>\n",
       "  <tbody>\n",
       "    <tr>\n",
       "      <th>Hombre_enojado</th>\n",
       "      <td>15</td>\n",
       "      <td>2</td>\n",
       "      <td>0</td>\n",
       "      <td>3</td>\n",
       "      <td>0</td>\n",
       "      <td>0</td>\n",
       "      <td>0</td>\n",
       "      <td>0</td>\n",
       "    </tr>\n",
       "    <tr>\n",
       "      <th>Hombre_feliz</th>\n",
       "      <td>2</td>\n",
       "      <td>10</td>\n",
       "      <td>1</td>\n",
       "      <td>2</td>\n",
       "      <td>0</td>\n",
       "      <td>0</td>\n",
       "      <td>0</td>\n",
       "      <td>1</td>\n",
       "    </tr>\n",
       "    <tr>\n",
       "      <th>Hombre_neutral</th>\n",
       "      <td>0</td>\n",
       "      <td>3</td>\n",
       "      <td>8</td>\n",
       "      <td>6</td>\n",
       "      <td>0</td>\n",
       "      <td>0</td>\n",
       "      <td>0</td>\n",
       "      <td>0</td>\n",
       "    </tr>\n",
       "    <tr>\n",
       "      <th>Hombre_triste</th>\n",
       "      <td>1</td>\n",
       "      <td>5</td>\n",
       "      <td>0</td>\n",
       "      <td>11</td>\n",
       "      <td>0</td>\n",
       "      <td>0</td>\n",
       "      <td>0</td>\n",
       "      <td>0</td>\n",
       "    </tr>\n",
       "    <tr>\n",
       "      <th>Mujer_enojado</th>\n",
       "      <td>0</td>\n",
       "      <td>1</td>\n",
       "      <td>0</td>\n",
       "      <td>0</td>\n",
       "      <td>14</td>\n",
       "      <td>4</td>\n",
       "      <td>0</td>\n",
       "      <td>0</td>\n",
       "    </tr>\n",
       "    <tr>\n",
       "      <th>Mujer_feliz</th>\n",
       "      <td>0</td>\n",
       "      <td>0</td>\n",
       "      <td>0</td>\n",
       "      <td>0</td>\n",
       "      <td>4</td>\n",
       "      <td>13</td>\n",
       "      <td>0</td>\n",
       "      <td>1</td>\n",
       "    </tr>\n",
       "    <tr>\n",
       "      <th>Mujer_neutral</th>\n",
       "      <td>0</td>\n",
       "      <td>0</td>\n",
       "      <td>0</td>\n",
       "      <td>0</td>\n",
       "      <td>0</td>\n",
       "      <td>0</td>\n",
       "      <td>5</td>\n",
       "      <td>7</td>\n",
       "    </tr>\n",
       "    <tr>\n",
       "      <th>Mujer_triste</th>\n",
       "      <td>0</td>\n",
       "      <td>0</td>\n",
       "      <td>0</td>\n",
       "      <td>0</td>\n",
       "      <td>0</td>\n",
       "      <td>4</td>\n",
       "      <td>0</td>\n",
       "      <td>12</td>\n",
       "    </tr>\n",
       "  </tbody>\n",
       "</table>\n",
       "</div>"
      ],
      "text/plain": [
       "Emocion Predicha  Hombre_enojado  Hombre_feliz  Hombre_neutral  Hombre_triste  \\\n",
       "Emocion real                                                                    \n",
       "Hombre_enojado                15             2               0              3   \n",
       "Hombre_feliz                   2            10               1              2   \n",
       "Hombre_neutral                 0             3               8              6   \n",
       "Hombre_triste                  1             5               0             11   \n",
       "Mujer_enojado                  0             1               0              0   \n",
       "Mujer_feliz                    0             0               0              0   \n",
       "Mujer_neutral                  0             0               0              0   \n",
       "Mujer_triste                   0             0               0              0   \n",
       "\n",
       "Emocion Predicha  Mujer_enojado  Mujer_feliz  Mujer_neutral  Mujer_triste  \n",
       "Emocion real                                                               \n",
       "Hombre_enojado                0            0              0             0  \n",
       "Hombre_feliz                  0            0              0             1  \n",
       "Hombre_neutral                0            0              0             0  \n",
       "Hombre_triste                 0            0              0             0  \n",
       "Mujer_enojado                14            4              0             0  \n",
       "Mujer_feliz                   4           13              0             1  \n",
       "Mujer_neutral                 0            0              5             7  \n",
       "Mujer_triste                  0            4              0            12  "
      ]
     },
     "execution_count": 29,
     "metadata": {},
     "output_type": "execute_result"
    }
   ],
   "source": [
    "pd.crosstab(y_test, predict, rownames=['Emocion real'],colnames=['Emocion Predicha'])"
   ]
  },
  {
   "cell_type": "code",
   "execution_count": 30,
   "id": "4d627353",
   "metadata": {},
   "outputs": [],
   "source": [
    "#Guardando las variables\n",
    "filename = '.\\\\modelo_rforest_final.sav'\n",
    "file =  open(filename, 'wb')\n",
    "pickle.dump(clf,file)\n",
    "file.close()\n"
   ]
  }
 ],
 "metadata": {
  "kernelspec": {
   "display_name": "Python 3",
   "language": "python",
   "name": "python3"
  },
  "language_info": {
   "codemirror_mode": {
    "name": "ipython",
    "version": 3
   },
   "file_extension": ".py",
   "mimetype": "text/x-python",
   "name": "python",
   "nbconvert_exporter": "python",
   "pygments_lexer": "ipython3",
   "version": "3.8.8"
  }
 },
 "nbformat": 4,
 "nbformat_minor": 5
}
