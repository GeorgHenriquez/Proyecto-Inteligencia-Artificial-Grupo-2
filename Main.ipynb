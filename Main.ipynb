{
 "cells": [
  {
   "cell_type": "code",
   "execution_count": 31,
   "id": "6a90a866",
   "metadata": {},
   "outputs": [],
   "source": [
    "import pandas as pd\n",
    "import numpy as np\n",
    "import os\n",
    "import random\n",
    "import sys\n",
    "import pickle\n",
    "import matplotlib.pyplot as plt\n",
    "import seaborn as sns\n",
    "import librosa\n",
    "import librosa.display\n",
    "import tkinter as tk\n",
    "\n",
    "from sklearn.model_selection import train_test_split, cross_val_score\n",
    "from sklearn.utils.multiclass import unique_labels\n",
    "from sklearn.ensemble import RandomForestClassifier, VotingClassifier\n",
    "from sklearn.preprocessing import StandardScaler\n",
    "\n",
    "from tqdm import tqdm\n",
    "\n",
    "import warnings\n",
    "warnings.filterwarnings('ignore')"
   ]
  },
  {
   "cell_type": "code",
   "execution_count": 32,
   "id": "991b6429",
   "metadata": {},
   "outputs": [],
   "source": [
    "def extract_feature(file_name):\n",
    "    \"\"\"Function Extracts Features from WAV file\"\"\"\n",
    "    X, sample_rate = librosa.load(file_name)\n",
    "    stft=np.abs(librosa.stft(X))\n",
    "    result=np.array([])\n",
    "    mfccs=np.mean(librosa.feature.mfcc(y=X, sr=sample_rate, n_mfcc=40).T,axis=0)\n",
    "    result=np.hstack((result, mfccs))\n",
    "    chroma=np.mean(librosa.feature.chroma_stft(S=stft, sr=sample_rate).T,axis=0)\n",
    "    result=np.hstack((result, chroma))\n",
    "    mel=np.mean(librosa.feature.melspectrogram(X, sr=sample_rate).T,axis=0)\n",
    "    result=np.hstack((result, mel))\n",
    "    return result"
   ]
  },
  {
   "cell_type": "code",
   "execution_count": 35,
   "id": "83fe316a",
   "metadata": {},
   "outputs": [],
   "source": [
    "class Ventana:\n",
    "    root = None\n",
    "    file = open('.\\\\modelo_rforest_final.sav', 'rb')\n",
    "    clff = pickle.load(file)\n",
    "    file.close()\n",
    "    \n",
    "    def __init__(self, root):\n",
    "        root = root\n",
    "        root.title(\"Analizador de Emociones\")\n",
    "\n",
    "        self.titulo = tk.Label(root, text=\"Proyecto Analizador de Emociones\", font=\"45\")\n",
    "        self.titulo.grid(row=0, column=0, pady=(15,5))\n",
    "        self.widgets()\n",
    "        \n",
    "        \n",
    "    def widgets(self):\n",
    "        self.lbanalisis = tk.Label(root, text=\"Ingrese el nombre del archivo (sin extension wav):\", font=\"20\")\n",
    "        self.lbanalisis.grid(row=1, column=0, padx=(10,10), pady=(5,10))\n",
    "        \n",
    "        self.resultados = tk.Text(root, width=50, height=1)\n",
    "        self.resultados.grid(row=2, column=0, columnspan=1)\n",
    "        \n",
    "        self.btlimpiar = tk.Button(root, text=\"Predecir\", command=self.predecir)\n",
    "        self.btlimpiar.grid(row=2, column=1)\n",
    "        \n",
    "        self.resultado = tk.Label(root, text=\"Resultado:\", font=\"20\")\n",
    "        self.resultado.grid(row=3, column=0, padx=(10,10), pady=(5,10))\n",
    "        \n",
    "        self.emocion = tk.Text(root, width=20, height=1)\n",
    "        self.emocion.grid(row=3, column=1, columnspan=1)\n",
    "        self.emocion.config(state=\"disable\")\n",
    "        print(self.clff)\n",
    "    def predecir(self):\n",
    "        self.limpiar()\n",
    "        self.emocion.config(state=\"normal\")\n",
    "        self.emocion.delete(1.0, tk.END)\n",
    "        linea = self.resultados.get(1.0, tk.END) #obtiene el texto de \"entrada\"\n",
    "        \n",
    "        linea = linea.rstrip('\\n')\n",
    "        \n",
    "        linea = linea+'.wav'\n",
    "\n",
    "        print(linea)\n",
    "        caracteristica = extract_feature(linea)\n",
    "        \n",
    "        prediccion = self.clff.predict([caracteristica])\n",
    "        print(prediccion)\n",
    "        \n",
    "        self.emocion.insert(tk.INSERT, prediccion[0])\n",
    "        self.emocion.config(state=\"disable\")\n",
    "        \n",
    "    def limpiar(self):\n",
    "        self.emocion.config(state=\"normal\")\n",
    "        self.emocion.delete(1.0, tk.END)\n",
    "        self.emocion.config(state=\"disable\")\n",
    "        \n",
    "        \n",
    "        \n",
    "    "
   ]
  },
  {
   "cell_type": "code",
   "execution_count": 36,
   "id": "6c85f169",
   "metadata": {},
   "outputs": [
    {
     "name": "stdout",
     "output_type": "stream",
     "text": [
      "RandomForestClassifier(criterion='entropy', max_depth=15, max_leaf_nodes=239,\n",
      "                       min_samples_leaf=3, min_samples_split=9,\n",
      "                       n_estimators=22984, n_jobs=2, random_state=22)\n",
      "h_muy_feliz.wav\n",
      "['Hombre_feliz']\n",
      "h_feliz.wav\n",
      "['Hombre_enojado']\n",
      "mujer.wav\n",
      "['Mujer_triste']\n"
     ]
    }
   ],
   "source": [
    "root = tk.Tk()\n",
    "#root.iconphoto(False, tk.PhotoImage(file='clojure.png'))\n",
    "root.geometry(\"600x400\")\n",
    "ventana = Ventana(root)\n",
    "\n",
    "#inicia el bucle infinito del programa\n",
    "root.mainloop()"
   ]
  },
  {
   "cell_type": "code",
   "execution_count": null,
   "id": "9344fd58",
   "metadata": {},
   "outputs": [],
   "source": []
  }
 ],
 "metadata": {
  "kernelspec": {
   "display_name": "Python 3",
   "language": "python",
   "name": "python3"
  },
  "language_info": {
   "codemirror_mode": {
    "name": "ipython",
    "version": 3
   },
   "file_extension": ".py",
   "mimetype": "text/x-python",
   "name": "python",
   "nbconvert_exporter": "python",
   "pygments_lexer": "ipython3",
   "version": "3.8.8"
  }
 },
 "nbformat": 4,
 "nbformat_minor": 5
}
